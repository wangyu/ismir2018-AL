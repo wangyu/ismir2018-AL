{
 "cells": [
  {
   "cell_type": "code",
   "execution_count": 39,
   "metadata": {},
   "outputs": [],
   "source": [
    "import pickle\n",
    "import os"
   ]
  },
  {
   "cell_type": "code",
   "execution_count": 21,
   "metadata": {},
   "outputs": [],
   "source": [
    "with open('/beegfs/yw3004/projects/active_learning/mean_feat_vggish_openmic.pickle', 'rb') as f:\n",
    "    means = pickle.load(f, encoding='latin1')"
   ]
  },
  {
   "cell_type": "code",
   "execution_count": 22,
   "metadata": {},
   "outputs": [
    {
     "data": {
      "text/plain": [
       "array([181.1,  14.6, 165.4, 100.6, 210.3, 104.3, 142.5, 122.3,  80. ,\n",
       "       234.1, 106.1, 130.3, 138.7, 149.5,  98.6, 100.4, 117.3, 118.5,\n",
       "       126.4, 153.2,  44. , 204.7, 100.4,  61.1,  93.2, 184.4, 138.2,\n",
       "       167.7, 166. , 131.8, 110.6, 118.9, 132.7, 151.4,  76.1, 128.6,\n",
       "        93.1, 106.6, 141.5,  89. , 153.5, 186.8,  87.4, 155.2, 181.4,\n",
       "        97.9,  88.6,  99.3,  89.1, 132.9, 154.6, 108.9,  59.1, 201.7,\n",
       "       104.8, 124.2, 183.1,  75.1, 128.1, 217.6, 213.4, 107.7,  79.8,\n",
       "       169.5, 103. , 213.6, 132.8, 112. , 185.7, 143.1, 119.4, 151.6,\n",
       "       172.3, 226.5,  92.7, 111. ,  65.2, 239.4, 151.7, 146.9,  84.7,\n",
       "       142.8, 152.2, 164.3,  83.3,  86.8, 127.4, 220.3, 150.4, 147.6,\n",
       "       178.2, 200.3,  57.3, 168.8,  31.8, 221.3,  31.2, 157.3, 109.2,\n",
       "       125.2, 210.7, 109.6, 175.8,  57.2,  34.6,  92.9, 163.3, 189.8,\n",
       "       172.4, 247.2, 121.4, 195.3, 108.9,  59.2, 147.4,  36.5,  65.9,\n",
       "       128.6,  13.6,  37.9, 177.1, 162.6, 176.1,  95.2, 251.2,   0.3,\n",
       "        80.3, 255. ])"
      ]
     },
     "execution_count": 22,
     "metadata": {},
     "output_type": "execute_result"
    }
   ],
   "source": [
    "means['147151_107520']"
   ]
  },
  {
   "cell_type": "code",
   "execution_count": 23,
   "metadata": {},
   "outputs": [],
   "source": [
    "with open('/beegfs/yw3004/projects/active_learning/std_feat_vggish_openmic.pickle', 'rb') as f:\n",
    "    stds = pickle.load(f, encoding='latin1')"
   ]
  },
  {
   "cell_type": "code",
   "execution_count": 28,
   "metadata": {},
   "outputs": [
    {
     "data": {
      "text/plain": [
       "array([ 5.1273775 ,  4.8       ,  8.95767827, 10.98362417, 11.05486318,\n",
       "        7.69480344, 26.30684322,  9.69587541,  8.85437745, 12.78632082,\n",
       "        8.27586853, 30.67914601, 44.92004007, 28.04014979, 20.51925925,\n",
       "       21.10544953, 20.86168737, 24.81229534, 21.42055088, 10.87014259,\n",
       "       23.47764895, 13.31202464, 19.81009843, 30.40542715, 16.06735821,\n",
       "       17.93989967, 14.68196172, 15.42757272, 15.44020725, 17.01646262,\n",
       "       34.00352923, 17.6604077 , 18.47187051, 46.72087328, 18.20137357,\n",
       "       21.35040983, 10.8853112 , 24.03414238, 19.41777536, 37.84706065,\n",
       "       30.50983448, 28.37534141, 24.73944219, 19.07773571, 27.96140197,\n",
       "       15.43016526, 21.68501787, 13.95743529, 27.98731856, 39.00628155,\n",
       "       23.73267789, 18.57121428, 21.39836442, 23.40534127, 31.7515354 ,\n",
       "       33.44488003, 22.34927292, 60.88587685, 33.37199425, 34.94052089,\n",
       "       38.24709139, 37.36321721, 39.09936061, 43.2602589 , 51.28157564,\n",
       "       29.47948439, 36.42746217, 33.27461495, 20.12982861, 53.04234158,\n",
       "       12.20819397, 16.67453148, 27.1479281 , 23.08354392, 23.22520183,\n",
       "       46.03911381, 37.82010048, 15.08774337, 31.34661066, 41.86275194,\n",
       "       34.05598332, 46.71573611, 56.78344829, 44.96898931, 26.63475174,\n",
       "       36.27064929, 50.82951898, 32.63142657, 12.55547689, 35.44347613,\n",
       "       43.98363332, 34.81393399, 32.77819397, 23.74784201, 28.50543808,\n",
       "       21.79931192, 30.00933188, 52.25141146, 34.0523127 , 32.127247  ,\n",
       "       19.29792735, 59.66271868, 39.00974237, 24.46957294, 27.47071168,\n",
       "       54.74751136, 28.53086048, 25.15869631, 49.69346033, 12.38386046,\n",
       "       46.13285164, 41.94770554, 71.53663397, 28.48789216, 35.45475991,\n",
       "       38.09002494, 35.83978237, 37.97156831, 20.15043424, 38.5394603 ,\n",
       "       69.26391557, 56.32974348, 47.3       , 68.06731962,  9.30376268,\n",
       "        0.9       , 49.29513161,  0.        ])"
      ]
     },
     "execution_count": 28,
     "metadata": {},
     "output_type": "execute_result"
    }
   ],
   "source": [
    "stds['147151_107520']"
   ]
  },
  {
   "cell_type": "code",
   "execution_count": 37,
   "metadata": {},
   "outputs": [],
   "source": [
    "instrument_all = ['accordion', 'banjo', 'bass', 'cello', 'clarinet', 'cymbals', 'drums', 'flute', 'guitar', \n",
    "                  'mandolin', 'mallet_percussion', 'organ', 'piano', 'saxophone', 'synthesizer', 'trombone', \n",
    "                  'trumpet', 'ukulele', 'violin', 'voice']"
   ]
  },
  {
   "cell_type": "code",
   "execution_count": 38,
   "metadata": {},
   "outputs": [],
   "source": [
    "path_project = '/beegfs/yw3004/projects/active_learning/'"
   ]
  },
  {
   "cell_type": "code",
   "execution_count": 47,
   "metadata": {},
   "outputs": [
    {
     "name": "stdout",
     "output_type": "stream",
     "text": [
      "accordion 1500\n",
      "banjo 2218\n",
      "bass 1888\n",
      "cello 1949\n",
      "clarinet 2385\n",
      "cymbals 1735\n",
      "drums 1747\n",
      "flute 2084\n",
      "guitar 1650\n",
      "mandolin 2463\n",
      "mallet_percussion 1802\n",
      "organ 1890\n",
      "piano 1720\n",
      "saxophone 2365\n",
      "synthesizer 1602\n",
      "trombone 1584\n",
      "trumpet 2916\n",
      "ukulele 2425\n",
      "violin 2033\n",
      "voice 1564\n"
     ]
    }
   ],
   "source": [
    "for inst in instrument_all:\n",
    "    with open(os.path.join(path_project, 'inst_labels', inst + '_y.pickle'), 'rb') as f:\n",
    "        y_dict = pickle.load(f, encoding='latin1')\n",
    "        print (inst, len(y_dict))"
   ]
  },
  {
   "cell_type": "code",
   "execution_count": null,
   "metadata": {},
   "outputs": [],
   "source": []
  }
 ],
 "metadata": {
  "kernelspec": {
   "display_name": "active_learning",
   "language": "python",
   "name": "active_learning"
  },
  "language_info": {
   "codemirror_mode": {
    "name": "ipython",
    "version": 3
   },
   "file_extension": ".py",
   "mimetype": "text/x-python",
   "name": "python",
   "nbconvert_exporter": "python",
   "pygments_lexer": "ipython3",
   "version": "3.6.5"
  }
 },
 "nbformat": 4,
 "nbformat_minor": 2
}
