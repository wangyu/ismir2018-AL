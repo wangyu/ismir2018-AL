{
 "cells": [
  {
   "cell_type": "code",
   "execution_count": 1,
   "metadata": {
    "collapsed": true
   },
   "outputs": [],
   "source": [
    "import pickle\n",
    "import sklearn\n",
    "import modAL\n",
    "from modAL.models import ActiveLearner\n",
    "from sklearn.ensemble import RandomForestClassifier\n",
    "from sklearn.metrics import precision_score\n",
    "from sklearn.metrics import recall_score\n",
    "from sklearn.metrics import confusion_matrix\n",
    "from sklearn.metrics import f1_score\n",
    "from sklearn.metrics import roc_curve, precision_recall_curve, auc, make_scorer\n",
    "from sklearn.model_selection import GridSearchCV\n",
    "import numpy as np\n",
    "from modAL.uncertainty import uncertainty_sampling\n",
    "from modAL.uncertainty import entropy_sampling\n",
    "from modAL.uncertainty import margin_sampling\n",
    "import sys\n",
    "import os\n",
    "\n",
    "import pandas as pd\n",
    "import csv\n",
    "\n",
    "# import audio_decryption\n",
    "import librosa\n",
    "import IPython.display\n",
    "import random\n",
    "\n",
    "import matplotlib.pyplot as plt\n",
    "%matplotlib inline"
   ]
  },
  {
   "cell_type": "code",
   "execution_count": 2,
   "metadata": {
    "collapsed": true
   },
   "outputs": [],
   "source": [
    "path_project = '/beegfs/amm1209/ismir2018_LBD/'"
   ]
  },
  {
   "cell_type": "markdown",
   "metadata": {},
   "source": [
    "# 1. Load training data"
   ]
  },
  {
   "cell_type": "code",
   "execution_count": 20,
   "metadata": {
    "collapsed": true
   },
   "outputs": [],
   "source": [
    "X_train = pickle.load(open(os.path.join(path_project + 'X_train.pickle'), \"rb\" ))\n",
    "y_train = pickle.load(open(os.path.join(path_project + 'y_train.pickle'), \"rb\" ))\n",
    "X_val = pickle.load(open(os.path.join(path_project + 'X_val.pickle'), \"rb\" ))\n",
    "y_val = pickle.load(open(os.path.join(path_project + 'y_val.pickle'), \"rb\" ))\n",
    "X_test = pickle.load(open(os.path.join(path_project + 'X_test.pickle'), \"rb\" ))\n",
    "y_test = pickle.load(open(os.path.join(path_project + 'y_test.pickle'), \"rb\" ))\n",
    "\n",
    "X_pool = pickle.load(open(os.path.join(path_project + 'X_pool.pickle'), \"rb\" ))\n",
    "key_pool = pickle.load(open(os.path.join(path_project + 'key_pool.pickle'), \"rb\" ))"
   ]
  },
  {
   "cell_type": "code",
   "execution_count": 21,
   "metadata": {},
   "outputs": [
    {
     "name": "stdout",
     "output_type": "stream",
     "text": [
      "[[ 199.           51.3         234.2        ...,   41.21516711\n",
      "    30.98725544    0.        ]\n",
      " [ 179.2          37.3         177.1        ...,   82.39271812\n",
      "    23.15620867    0.        ]\n",
      " [ 191.1          39.          197.4        ...,   78.67934926\n",
      "    49.31368978    0.        ]\n",
      " ..., \n",
      " [   0.            0.            0.         ...,    0.            0.            0.        ]\n",
      " [ 185.1          19.2         176.3        ...,    0.            0.            0.        ]\n",
      " [   0.            0.            0.         ...,    0.            0.            0.        ]]\n"
     ]
    }
   ],
   "source": [
    "print(X_train)"
   ]
  },
  {
   "cell_type": "code",
   "execution_count": 22,
   "metadata": {},
   "outputs": [
    {
     "name": "stdout",
     "output_type": "stream",
     "text": [
      "(377, 256)\n"
     ]
    }
   ],
   "source": [
    "print(X_train.shape)"
   ]
  },
  {
   "cell_type": "code",
   "execution_count": 23,
   "metadata": {},
   "outputs": [
    {
     "name": "stdout",
     "output_type": "stream",
     "text": [
      "(10, 256)\n"
     ]
    }
   ],
   "source": [
    "X_train = X_train[0:10,:]\n",
    "#X_train = np.reshape(X_train,(1,-1))\n",
    "print(X_train.shape)"
   ]
  },
  {
   "cell_type": "code",
   "execution_count": 24,
   "metadata": {
    "collapsed": true
   },
   "outputs": [],
   "source": [
    "y_train = y_train[0:10]"
   ]
  },
  {
   "cell_type": "code",
   "execution_count": 25,
   "metadata": {},
   "outputs": [
    {
     "data": {
      "text/plain": [
       "(10,)"
      ]
     },
     "execution_count": 25,
     "metadata": {},
     "output_type": "execute_result"
    }
   ],
   "source": [
    "y_train.shape"
   ]
  },
  {
   "cell_type": "markdown",
   "metadata": {
    "collapsed": true
   },
   "source": [
    "# 2. Initial classifier"
   ]
  },
  {
   "cell_type": "code",
   "execution_count": 26,
   "metadata": {},
   "outputs": [
    {
     "name": "stdout",
     "output_type": "stream",
     "text": [
      "accuracy: 0.612587412587\n"
     ]
    }
   ],
   "source": [
    "clf = RandomForestClassifier(n_estimators = 1000, max_depth=8, random_state=0)\n",
    "clf.fit(X_train, y_train)\n",
    "score = np.mean(clf.predict(X_test) == y_test)\n",
    "print('accuracy:', score)"
   ]
  },
  {
   "cell_type": "code",
   "execution_count": 27,
   "metadata": {},
   "outputs": [
    {
     "name": "stdout",
     "output_type": "stream",
     "text": [
      "0.61095505618\n",
      "1.0\n",
      "[[  3 277]\n",
      " [  0 435]]\n"
     ]
    }
   ],
   "source": [
    "pred = clf.predict(X_test)\n",
    "starting_precision = precision_score(y_test,pred)\n",
    "starting_recall = recall_score(y_test,pred)\n",
    "starting_confusion_matrix = confusion_matrix(y_test,pred)\n",
    "print(starting_precision)\n",
    "print(starting_recall)\n",
    "print(starting_confusion_matrix)"
   ]
  },
  {
   "cell_type": "code",
   "execution_count": 28,
   "metadata": {
    "collapsed": true
   },
   "outputs": [],
   "source": [
    "with open(os.path.join(path_project, 'models', 'model_initial_voice_n1000_d8.pickle'), 'wb') as f:\n",
    "    pickle.dump(clf, f, protocol=pickle.HIGHEST_PROTOCOL)"
   ]
  },
  {
   "cell_type": "markdown",
   "metadata": {},
   "source": [
    "# 3. Active Learning"
   ]
  },
  {
   "cell_type": "code",
   "execution_count": 29,
   "metadata": {
    "collapsed": true
   },
   "outputs": [],
   "source": [
    "learner = ActiveLearner(\n",
    "    estimator=clf,\n",
    "    query_strategy=modAL.uncertainty.uncertainty_sampling,\n",
    "    X_training=X_train, y_training=y_train\n",
    ")"
   ]
  },
  {
   "cell_type": "code",
   "execution_count": 30,
   "metadata": {
    "collapsed": true
   },
   "outputs": [],
   "source": [
    "def adjusted_classes(y_scores, t):\n",
    "    \"\"\"\n",
    "    This function adjusts class predictions based on the prediction threshold (t).\n",
    "    Will only work for binary classification problems.\n",
    "    \"\"\"\n",
    "    return [1 if y >= t else 0 for y in y_scores]"
   ]
  },
  {
   "cell_type": "code",
   "execution_count": 31,
   "metadata": {
    "collapsed": true
   },
   "outputs": [],
   "source": [
    "def active_learning(X_pool, key_pool, n_queries, n_instances, threshold, converge_cond, string):\n",
    "    precision = [starting_precision]\n",
    "    recall = [starting_recall]\n",
    "    confusion_matrices = [starting_confusion_matrix]\n",
    "    count = 1\n",
    "    queries = {}\n",
    "    not_converge = True\n",
    "    \n",
    "    while count < n_queries+1 and not_converge:\n",
    "        y = []\n",
    "        query_idx, query_instance = learner.query(X_pool, n_instances=n_instances)\n",
    "        for i in range(n_instances):\n",
    "            key = key_pool[query_idx[i]][0]\n",
    "            filepath = os.path.join(path_project, 'fma-audio', str(key) +'.ogg')\n",
    "            \n",
    "            y_track, sr = librosa.core.load(filepath)\n",
    "            IPython.display.display(IPython.display.Audio(data=y_track, rate=sr))\n",
    "\n",
    "            y_new = input(\"Please input label for\\nsample_key = '%s' (1 if voice is present, 0 if voice is not present)\" % (key))\n",
    "            y.append(int(y_new))\n",
    "            \n",
    "            queries[key] = int(y_new)\n",
    "            \n",
    "        print('ARRAY: ',y)\n",
    "        learner.teach(\n",
    "            X=X_pool[query_idx],\n",
    "            y=np.array(y).reshape(-1, ))\n",
    "    \n",
    "        X_pool = np.delete(X_pool, query_idx, axis=0)\n",
    "        key_pool = np.delete(key_pool, query_idx, axis=0)\n",
    "        \n",
    "        prediction_probabilities = learner.predict_proba(X_val)\n",
    "        #if prediction_probabilities.shape[1]==1:\n",
    "            #print(\"in if\")\n",
    "            #zeros = np.zeros((prediction_probabilities.shape[0],1))\n",
    "            #prediction_probabilities = np.concatenate((prediction_probabilities,zeros), axis = 1)\n",
    "        print(prediction_probabilities.shape)\n",
    "        \n",
    "        prediction = adjusted_classes(prediction_probabilities[:,1], threshold)\n",
    "        \n",
    "        precision.append(precision_score(y_val,prediction))\n",
    "        recall.append(recall_score(y_val,prediction))\n",
    "        confusion_matrices.append(confusion_matrix(y_val,prediction))\n",
    "    \n",
    "        print('Precision after query no. %d: %f' % (count, precision_score(y_val,prediction)))      \n",
    "        print(precision[count]-precision[count-1])\n",
    "        print('Recall after query no. %d: %f' % (count, recall_score(y_val,prediction))) \n",
    "        \n",
    "        if len(precision) > 4 and np.abs(precision[count]-precision[count-1]) < converge_cond \\\n",
    "        and np.abs(precision[count-1]-precision[count-2]) < converge_cond \\\n",
    "        and np.abs(precision[count-2]-precision[count-3]) < converge_cond \\\n",
    "        and np.abs(recall[count]-recall[count-1]) < converge_cond \\\n",
    "        and np.abs(recall[count-1]-recall[count-2]) < converge_cond \\\n",
    "        and np.abs(recall[count-2]-recall[count-3]) < converge_cond:\n",
    "            not_converge = False\n",
    "        \n",
    "        with open(os.path.join(path_project, 'models', string + str(count)+'.pickle'), 'wb') as f:\n",
    "            pickle.dump(learner, f, protocol=pickle.HIGHEST_PROTOCOL)\n",
    "        count += 1\n",
    "    \n",
    "    return queries, precision, recall, confusion_matrices"
   ]
  },
  {
   "cell_type": "code",
   "execution_count": 17,
   "metadata": {},
   "outputs": [],
   "source": [
    "#active_learning(X_pool, key_pool, 100, 1, 0.5, 10e-4, 'voice_model_10_n10_d8'+'_iter_')"
   ]
  },
  {
   "cell_type": "code",
   "execution_count": 18,
   "metadata": {},
   "outputs": [],
   "source": [
    "#active_learning(X_pool, key_pool, 100, 1, 0.5, 10e-4, 'voice_model_100_n100_d8'+'_iter_')"
   ]
  },
  {
   "cell_type": "code",
   "execution_count": 33,
   "metadata": {},
   "outputs": [],
   "source": [
    "#active_learning(X_pool, key_pool, 100, 1, 0.5, 10e-4, 'voice_model_100_n1000_d8'+'_iter_')"
   ]
  },
  {
   "cell_type": "code",
   "execution_count": null,
   "metadata": {
    "collapsed": true
   },
   "outputs": [],
   "source": []
  }
 ],
 "metadata": {
  "kernelspec": {
   "display_name": "Python (active_learning)",
   "language": "python",
   "name": "active_learning"
  },
  "language_info": {
   "codemirror_mode": {
    "name": "ipython",
    "version": 3
   },
   "file_extension": ".py",
   "mimetype": "text/x-python",
   "name": "python",
   "nbconvert_exporter": "python",
   "pygments_lexer": "ipython3",
   "version": "3.6.5"
  }
 },
 "nbformat": 4,
 "nbformat_minor": 2
}
