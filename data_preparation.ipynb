{
 "cells": [
  {
   "cell_type": "code",
   "execution_count": 1,
   "metadata": {},
   "outputs": [],
   "source": [
    "import pickle\n",
    "import numpy as np\n",
    "import sys\n",
    "import os\n",
    "import pandas as pd\n",
    "import csv\n",
    "import random"
   ]
  },
  {
   "cell_type": "code",
   "execution_count": 2,
   "metadata": {},
   "outputs": [],
   "source": [
    "path_project = '/beegfs/yw3004/projects/ismir2018_LBD/'"
   ]
  },
  {
   "cell_type": "markdown",
   "metadata": {},
   "source": [
    "# 1. Read metadata to get artist ids"
   ]
  },
  {
   "cell_type": "code",
   "execution_count": 3,
   "metadata": {},
   "outputs": [],
   "source": [
    "with open(os.path.join(path_project, 'openmic-20k-metadata.csv')) as csvfile:\n",
    "    reader = csv.DictReader(csvfile)\n",
    "    data = [r for r in reader]"
   ]
  },
  {
   "cell_type": "code",
   "execution_count": 4,
   "metadata": {
    "scrolled": true
   },
   "outputs": [],
   "source": [
    "data[0];"
   ]
  },
  {
   "cell_type": "code",
   "execution_count": 5,
   "metadata": {},
   "outputs": [],
   "source": [
    "with open(os.path.join(path_project, 'openmic-20k-metadata.csv')) as csvfile:\n",
    "    readCSV = csv.reader(csvfile, delimiter=',')\n",
    "    key_artist_dict = {}\n",
    "    artist_keys_dict = {}\n",
    "\n",
    "    for row in readCSV:\n",
    "        artist = row[4]\n",
    "        key = row[39]\n",
    "        key_artist_dict[key] = artist\n",
    "        if artist not in artist_keys_dict.keys():\n",
    "            artist_keys_dict[artist] = [key]\n",
    "        else:\n",
    "            artist_keys_dict[artist].append(key)"
   ]
  },
  {
   "cell_type": "code",
   "execution_count": 6,
   "metadata": {},
   "outputs": [],
   "source": [
    "key_artist_dict;"
   ]
  },
  {
   "cell_type": "code",
   "execution_count": 7,
   "metadata": {},
   "outputs": [],
   "source": [
    "artist_keys_dict;"
   ]
  },
  {
   "cell_type": "code",
   "execution_count": 8,
   "metadata": {},
   "outputs": [
    {
     "data": {
      "text/plain": [
       "6828"
      ]
     },
     "execution_count": 8,
     "metadata": {},
     "output_type": "execute_result"
    }
   ],
   "source": [
    "len(artist_keys_dict)"
   ]
  },
  {
   "cell_type": "markdown",
   "metadata": {
    "collapsed": true
   },
   "source": [
    "# 2. Read instrument y_dict to neg and pos#"
   ]
  },
  {
   "cell_type": "code",
   "execution_count": 9,
   "metadata": {},
   "outputs": [],
   "source": [
    "instrument_all = ['accordion', 'banjo', 'bass', 'cello', 'clarinet', 'cymbals', 'drums', 'flute', 'guitar', \n",
    "                  'mandolin', 'mallet_percussion', 'organ', 'piano', 'saxophone', 'synthesizer', 'trombone', \n",
    "                  'trumpet', 'ukulele', 'violin', 'voice']"
   ]
  },
  {
   "cell_type": "code",
   "execution_count": 10,
   "metadata": {},
   "outputs": [
    {
     "name": "stdout",
     "output_type": "stream",
     "text": [
      "accordion 1500\n",
      "banjo 2218\n",
      "bass 1888\n",
      "cello 1949\n",
      "clarinet 2385\n",
      "cymbals 1735\n",
      "drums 1747\n",
      "flute 2084\n",
      "guitar 1650\n",
      "mandolin 2463\n",
      "mallet_percussion 1802\n",
      "organ 1890\n",
      "piano 1720\n",
      "saxophone 2365\n",
      "synthesizer 1602\n",
      "trombone 1584\n",
      "trumpet 2916\n",
      "ukulele 2425\n",
      "violin 2033\n",
      "voice 1564\n"
     ]
    }
   ],
   "source": [
    "for inst in instrument_all:\n",
    "    with open(os.path.join(path_project, 'inst_labels', inst + '_y.pickle'), 'rb') as f:\n",
    "        y_dict = pickle.load(f, encoding='latin1')\n",
    "        print (inst, len(y_dict))"
   ]
  },
  {
   "cell_type": "code",
   "execution_count": 11,
   "metadata": {},
   "outputs": [],
   "source": [
    "inst = 'guitar'"
   ]
  },
  {
   "cell_type": "code",
   "execution_count": 12,
   "metadata": {},
   "outputs": [],
   "source": [
    "with open(os.path.join(path_project,'inst_labels',inst+'_y.pickle'), 'rb') as f:\n",
    "    y_dict = pickle.load(f, encoding='latin1')"
   ]
  },
  {
   "cell_type": "code",
   "execution_count": 13,
   "metadata": {},
   "outputs": [],
   "source": [
    "neg_keys = []\n",
    "pos_keys = []\n",
    "\n",
    "for y in y_dict:\n",
    "    if y_dict[y] == 0:\n",
    "        neg_keys.append(y)\n",
    "    else:\n",
    "        pos_keys.append(y)"
   ]
  },
  {
   "cell_type": "code",
   "execution_count": 14,
   "metadata": {},
   "outputs": [
    {
     "data": {
      "text/plain": [
       "1137"
      ]
     },
     "execution_count": 14,
     "metadata": {},
     "output_type": "execute_result"
    }
   ],
   "source": [
    "len(pos_keys)"
   ]
  },
  {
   "cell_type": "code",
   "execution_count": 15,
   "metadata": {},
   "outputs": [
    {
     "data": {
      "text/plain": [
       "513"
      ]
     },
     "execution_count": 15,
     "metadata": {},
     "output_type": "execute_result"
    }
   ],
   "source": [
    "len(neg_keys)"
   ]
  },
  {
   "cell_type": "markdown",
   "metadata": {},
   "source": [
    "# 3. Sort sample keys by artist, split artists for test/val/train"
   ]
  },
  {
   "cell_type": "code",
   "execution_count": 23,
   "metadata": {},
   "outputs": [],
   "source": [
    "key_sort_by_artist = {}\n",
    "for key in y_dict.keys():\n",
    "    artist = key_artist_dict[key]\n",
    "    if artist not in key_sort_by_artist.keys():\n",
    "        key_sort_by_artist[artist] = [key]\n",
    "    else:\n",
    "        key_sort_by_artist[artist].append(key)"
   ]
  },
  {
   "cell_type": "code",
   "execution_count": 33,
   "metadata": {},
   "outputs": [
    {
     "data": {
      "text/plain": [
       "1038"
      ]
     },
     "execution_count": 33,
     "metadata": {},
     "output_type": "execute_result"
    }
   ],
   "source": [
    "num_artist = len(key_sort_by_artist)\n",
    "num_artist"
   ]
  },
  {
   "cell_type": "code",
   "execution_count": 38,
   "metadata": {},
   "outputs": [],
   "source": [
    "with open(os.path.join(path_project, 'training_data', inst + '_key_sort_by_artist.pickle'), 'wb') as f:\n",
    "    pickle.dump(key_sort_by_artist, f, protocol=pickle.HIGHEST_PROTOCOL) "
   ]
  },
  {
   "cell_type": "code",
   "execution_count": 24,
   "metadata": {},
   "outputs": [],
   "source": [
    "artists = list(key_sort_by_artist.keys())\n",
    "random.shuffle(artists)\n",
    "num_test_artist = 300\n",
    "num_val_artist = 200\n",
    "test_artist = artists[:num_test_artist]\n",
    "val_artist = artists[num_test_artist:num_test_artist+num_val_artist]\n",
    "train_artist = artists[num_test_artist+num_val_artist:]"
   ]
  },
  {
   "cell_type": "code",
   "execution_count": 25,
   "metadata": {},
   "outputs": [
    {
     "data": {
      "text/plain": [
       "538"
      ]
     },
     "execution_count": 25,
     "metadata": {},
     "output_type": "execute_result"
    }
   ],
   "source": [
    "len(train_artist)"
   ]
  },
  {
   "cell_type": "code",
   "execution_count": 26,
   "metadata": {},
   "outputs": [],
   "source": [
    "with open(os.path.join(path_project, 'training_data', inst + '_test_artist.pickle'), 'wb') as f:\n",
    "    pickle.dump(test_artist, f, protocol=pickle.HIGHEST_PROTOCOL)  \n",
    "with open(os.path.join(path_project, 'training_data', inst + '_val_artist.pickle'), 'wb') as f:\n",
    "    pickle.dump(val_artist, f, protocol=pickle.HIGHEST_PROTOCOL)\n",
    "with open(os.path.join(path_project, 'training_data', inst + '_train_artist.pickle'), 'wb') as f:\n",
    "    pickle.dump(train_artist, f, protocol=pickle.HIGHEST_PROTOCOL)"
   ]
  },
  {
   "cell_type": "markdown",
   "metadata": {},
   "source": [
    "# 4. Load features, build X, y for test/val/train"
   ]
  },
  {
   "cell_type": "code",
   "execution_count": 39,
   "metadata": {},
   "outputs": [],
   "source": [
    "with open(os.path.join(path_project,'mean_feat_vggish_openmic.pickle'), 'rb') as f:\n",
    "    mean_feat = pickle.load(f, encoding='latin1')\n",
    "with open(os.path.join(path_project,'std_feat_vggish_openmic.pickle'), 'rb') as f:\n",
    "    std_feat = pickle.load(f, encoding='latin1')"
   ]
  },
  {
   "cell_type": "code",
   "execution_count": 68,
   "metadata": {},
   "outputs": [],
   "source": [
    "X_test = np.zeros([1, 256])\n",
    "y_test = np.zeros(1)\n",
    "X_val = np.zeros([1, 256])\n",
    "y_val = np.zeros(1)\n",
    "X_train = np.zeros([1, 256])\n",
    "y_train = np.zeros(1)\n",
    "\n",
    "for artist in test_artist:\n",
    "    for key in key_sort_by_artist[artist]:\n",
    "        X_test = np.vstack([X_test, np.concatenate((mean_feat[key], std_feat[key]))])\n",
    "        y_test = np.vstack([y_test, y_dict[key]])\n",
    "        \n",
    "for artist in val_artist:\n",
    "    for key in key_sort_by_artist[artist]:\n",
    "        X_val = np.vstack([X_val, np.concatenate((mean_feat[key], std_feat[key]))])\n",
    "        y_val = np.vstack([y_val, y_dict[key]])\n",
    "\n",
    "for artist in train_artist:\n",
    "    for key in key_sort_by_artist[artist]:\n",
    "        X_train = np.vstack([X_train, np.concatenate((mean_feat[key], std_feat[key]))])\n",
    "        y_train = np.vstack([y_train, y_dict[key]])\n",
    "        \n",
    "X_test = np.delete(X_test, 0, 0)\n",
    "y_test = np.delete(y_test, 0)\n",
    "X_val = np.delete(X_val, 0, 0)\n",
    "y_val = np.delete(y_val, 0)\n",
    "X_train = np.delete(X_train, 0, 0)\n",
    "y_train = np.delete(y_train, 0)"
   ]
  },
  {
   "cell_type": "code",
   "execution_count": 69,
   "metadata": {},
   "outputs": [],
   "source": [
    "mask_test = np.any(np.isnan(X_test), axis=1)\n",
    "mask_val = np.any(np.isnan(X_val), axis=1)\n",
    "mask_train = np.any(np.isnan(X_train), axis=1)\n",
    "\n",
    "X_test = X_test[~mask_test]\n",
    "y_test = y_test[~mask_test]\n",
    "X_val = X_val[~mask_val]\n",
    "y_val = y_val[~mask_val]\n",
    "X_train = X_train[~mask_train]\n",
    "y_train = y_train[~mask_train]"
   ]
  },
  {
   "cell_type": "code",
   "execution_count": 79,
   "metadata": {},
   "outputs": [
    {
     "data": {
      "text/plain": [
       "(387, 256)"
      ]
     },
     "execution_count": 79,
     "metadata": {},
     "output_type": "execute_result"
    }
   ],
   "source": [
    "X_test.shape"
   ]
  },
  {
   "cell_type": "code",
   "execution_count": 71,
   "metadata": {},
   "outputs": [
    {
     "data": {
      "text/plain": [
       "(268, 256)"
      ]
     },
     "execution_count": 71,
     "metadata": {},
     "output_type": "execute_result"
    }
   ],
   "source": [
    "X_val.shape"
   ]
  },
  {
   "cell_type": "code",
   "execution_count": 72,
   "metadata": {},
   "outputs": [
    {
     "data": {
      "text/plain": [
       "(731, 256)"
      ]
     },
     "execution_count": 72,
     "metadata": {},
     "output_type": "execute_result"
    }
   ],
   "source": [
    "X_train.shape"
   ]
  },
  {
   "cell_type": "code",
   "execution_count": 81,
   "metadata": {},
   "outputs": [],
   "source": [
    "with open(os.path.join(path_project, 'training_data', inst + '_X_test.pickle'), 'wb') as f:\n",
    "    pickle.dump(X_test, f, protocol=pickle.HIGHEST_PROTOCOL) \n",
    "with open(os.path.join(path_project, 'training_data', inst +'_y_test.pickle'), 'wb') as f:\n",
    "    pickle.dump(y_test, f, protocol=pickle.HIGHEST_PROTOCOL)\n",
    "with open(os.path.join(path_project, 'training_data', inst +'_X_val.pickle'), 'wb') as f:\n",
    "    pickle.dump(X_val, f, protocol=pickle.HIGHEST_PROTOCOL)\n",
    "with open(os.path.join(path_project, 'training_data', inst +'_y_val.pickle'), 'wb') as f:\n",
    "    pickle.dump(y_val, f, protocol=pickle.HIGHEST_PROTOCOL)\n",
    "with open(os.path.join(path_project, 'training_data', inst +'_X_train.pickle'), 'wb') as f:\n",
    "    pickle.dump(X_train, f, protocol=pickle.HIGHEST_PROTOCOL)\n",
    "with open(os.path.join(path_project, 'training_data', inst +'_y_train.pickle'), 'wb') as f:\n",
    "    pickle.dump(y_train, f, protocol=pickle.HIGHEST_PROTOCOL)"
   ]
  },
  {
   "cell_type": "markdown",
   "metadata": {},
   "source": [
    "# 5. Build X_pool #"
   ]
  },
  {
   "cell_type": "code",
   "execution_count": 34,
   "metadata": {},
   "outputs": [],
   "source": [
    "X_pool = np.zeros([1, 256])\n",
    "key_pool = np.array(['000000_000000'])\n",
    "\n",
    "for artist in artist_keys_dict:\n",
    "    if artist != 'artist_id':\n",
    "        if artist not in test_artist:\n",
    "            for key in artist_keys_dict[artist]:\n",
    "                X_pool = np.vstack([X_pool, np.concatenate((mean_feat[key], std_feat[key]))])\n",
    "                key_pool = np.vstack([key_pool, np.array([key])])\n",
    "                \n",
    "X_pool = np.delete(X_pool, 0, 0)\n",
    "key_pool = np.delete(key_pool, 0, 0)"
   ]
  },
  {
   "cell_type": "code",
   "execution_count": 75,
   "metadata": {},
   "outputs": [],
   "source": [
    "mask_pool = np.any(np.isnan(X_pool), axis=1)\n",
    "X_pool = X_pool[~mask_pool]\n",
    "key_pool = key_pool[~mask_pool]"
   ]
  },
  {
   "cell_type": "code",
   "execution_count": 36,
   "metadata": {},
   "outputs": [
    {
     "data": {
      "text/plain": [
       "(17927, 256)"
      ]
     },
     "execution_count": 36,
     "metadata": {},
     "output_type": "execute_result"
    }
   ],
   "source": [
    "X_pool.shape"
   ]
  },
  {
   "cell_type": "code",
   "execution_count": 37,
   "metadata": {},
   "outputs": [],
   "source": [
    "with open(os.path.join(path_project, 'training_data', inst +'_X_pool.pickle'), 'wb') as f:\n",
    "    pickle.dump(X_pool, f, protocol=pickle.HIGHEST_PROTOCOL) \n",
    "with open(os.path.join(path_project, 'training_data', inst +'_key_pool.pickle'), 'wb') as f:\n",
    "    pickle.dump(key_pool, f, protocol=pickle.HIGHEST_PROTOCOL) "
   ]
  }
 ],
 "metadata": {
  "kernelspec": {
   "display_name": "active_learning",
   "language": "python",
   "name": "active_learning"
  },
  "language_info": {
   "codemirror_mode": {
    "name": "ipython",
    "version": 3
   },
   "file_extension": ".py",
   "mimetype": "text/x-python",
   "name": "python",
   "nbconvert_exporter": "python",
   "pygments_lexer": "ipython3",
   "version": "3.6.5"
  }
 },
 "nbformat": 4,
 "nbformat_minor": 2
}
